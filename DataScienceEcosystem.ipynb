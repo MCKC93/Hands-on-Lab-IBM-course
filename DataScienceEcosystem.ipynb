{
 "cells": [
  {
   "cell_type": "markdown",
   "id": "ef27cb92-9980-4a84-a400-c4ec096b408b",
   "metadata": {},
   "source": [
    "# Data Science Tools and Ecosystem"
   ]
  },
  {
   "cell_type": "markdown",
   "id": "d54b7960-2329-46ca-90fa-833b60d7b519",
   "metadata": {},
   "source": [
    "### In this notebook, Data Science Tools and Ecosystem are summarized"
   ]
  },
  {
   "cell_type": "markdown",
   "id": "53decbf9-e166-413f-9bca-7cfb45a9106d",
   "metadata": {},
   "source": [
    "**Objectives:** \n",
    "* The popular languages in Data Scientists\n",
    "* Common used Python libraries used by Data Scientists\n",
    "* Examples of evaluating arithmetic expressions in Python"
   ]
  },
  {
   "cell_type": "markdown",
   "id": "c59bff8c-c41f-45ef-8343-eae0f421f6c8",
   "metadata": {},
   "source": [
    "#### The popular languages that Data Scientists use are:\n",
    "1. Python   \n",
    "2. R        \n",
    "3. SQL      \n",
    "4. Julia\n",
    "5. Java    \n",
    "6. C++ \n",
    "7. Scala"
   ]
  },
  {
   "cell_type": "markdown",
   "id": "c89c4b77-73f5-49cc-8ed0-fed8b515378f",
   "metadata": {},
   "source": [
    "#### Some of the commonly used Python libraries used by Data Scientists include:\n",
    "1. Pandas\n",
    "2. NumPy\n",
    "3. Seaborn\n",
    "4. Matplotlib\n",
    "5. Keras"
   ]
  },
  {
   "cell_type": "markdown",
   "id": "5b6d7fae-43e1-49f7-8f2c-109e86e55627",
   "metadata": {},
   "source": [
    "| Data Science Tools |\n",
    "|--------------------|\n",
    "| Anaconda Navigator |\n",
    "| Hue |\n",
    "| Apache Cassandra |"
   ]
  },
  {
   "cell_type": "markdown",
   "id": "a2d2caed-8dcc-4b0b-ba81-56590d029cb9",
   "metadata": {},
   "source": [
    "### Below are a few examples of evaluating arithmetic expressions in Python."
   ]
  },
  {
   "cell_type": "code",
   "execution_count": 9,
   "id": "ac90ffd7-79db-46d3-850c-4d2722073018",
   "metadata": {
    "tags": []
   },
   "outputs": [
    {
     "data": {
      "text/plain": [
       "17"
      ]
     },
     "execution_count": 9,
     "metadata": {},
     "output_type": "execute_result"
    }
   ],
   "source": [
    "# This a simple arithmetic expression to mutiply then add integers\n",
    "(3*4)+5"
   ]
  },
  {
   "cell_type": "code",
   "execution_count": 11,
   "id": "6a9e25c0-f971-4090-9496-5a7d21e791ad",
   "metadata": {
    "tags": []
   },
   "outputs": [
    {
     "data": {
      "text/plain": [
       "3.3333333333333335"
      ]
     },
     "execution_count": 11,
     "metadata": {},
     "output_type": "execute_result"
    }
   ],
   "source": [
    "# This will convert 200 minutes to hours by diving by 60\n",
    "200/60"
   ]
  },
  {
   "cell_type": "markdown",
   "id": "1125b12b-092e-45dd-9c98-5456d8e2b1a0",
   "metadata": {},
   "source": [
    "## Author:\n",
    "Matteo Coccarese"
   ]
  }
 ],
 "metadata": {
  "kernelspec": {
   "display_name": "Python",
   "language": "python",
   "name": "conda-env-python-py"
  },
  "language_info": {
   "codemirror_mode": {
    "name": "ipython",
    "version": 3
   },
   "file_extension": ".py",
   "mimetype": "text/x-python",
   "name": "python",
   "nbconvert_exporter": "python",
   "pygments_lexer": "ipython3",
   "version": "3.7.12"
  }
 },
 "nbformat": 4,
 "nbformat_minor": 5
}
